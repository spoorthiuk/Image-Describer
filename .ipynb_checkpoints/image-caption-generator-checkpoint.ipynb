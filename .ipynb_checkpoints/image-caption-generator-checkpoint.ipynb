{
 "cells": [
  {
   "cell_type": "markdown",
   "id": "2a0e4dda",
   "metadata": {},
   "source": [
    "Import the necessary libraries"
   ]
  },
  {
   "cell_type": "code",
   "execution_count": 1,
   "id": "da7e3421",
   "metadata": {},
   "outputs": [
    {
     "data": {
      "application/vnd.jupyter.widget-view+json": {
       "model_id": "1021fd1586f84a8ab5e11f691f13504b",
       "version_major": 2,
       "version_minor": 0
      },
      "text/plain": [
       "0it [00:00, ?it/s]"
      ]
     },
     "metadata": {},
     "output_type": "display_data"
    }
   ],
   "source": [
    "import string \n",
    "import numpy as np\n",
    "from PIL import Image\n",
    "import os\n",
    "from pickle import dump, load\n",
    "import numpy as np\n",
    "\n",
    "from keras.applications.xception import Xception, preprocess_input\n",
    "from keras.preprocessing.image import load_img, img_to_array\n",
    "from keras.preprocessing.text import Tokenizer\n",
    "from keras.preprocessing.sequence import pad_sequences\n",
    "from keras.utils import to_categorical\n",
    "from keras.layers import add\n",
    "from keras.models import Model, load_model\n",
    "from keras.layers import Input, Dense, LSTM, Embedding, Dropout\n",
    "\n",
    "from tqdm.notebook import tqdm as tqdm\n",
    "tqdm().pandas()\n"
   ]
  },
  {
   "cell_type": "markdown",
   "id": "b0eafa32",
   "metadata": {},
   "source": [
    "We are using flicker8k dataset which contails 8091 images"
   ]
  },
  {
   "cell_type": "code",
   "execution_count": 2,
   "id": "a84e52d2",
   "metadata": {},
   "outputs": [],
   "source": [
    "\"\"\"The class File contains\n",
    "load_file: Reads the given text file and returns the text\n",
    "img_captions: Creates a dictionary which maps a file name to 5 captions\n",
    "data_cleaning: Removes punctuation, removes words containing numbers and turns all alphabets into lowercase\n",
    "get_vocabulary: Returns a set of all the words used in the captions\n",
    "store_description: Map each caption to the text file name and store it in a text file\n",
    "\"\"\"\n",
    "class FileHandling:\n",
    "    def __init__(self):\n",
    "        pass\n",
    "    def load_file(self, file):\n",
    "        file = open(file,\"r\")\n",
    "        text = file.read()\n",
    "        file.close()\n",
    "        return text\n",
    "    def img_captions(self, file_contents):\n",
    "        img_captions = dict()\n",
    "        for file_name_raw in file_contents.split('\\n'):\n",
    "            file_name = file_name_raw.split('\\t')[0].split('#')[0]\n",
    "            if file_name not in img_captions.keys():\n",
    "                img_captions[file_name] = []\n",
    "            img_captions[file_name].append(file_name_raw.split('\\t')[-1])\n",
    "        return img_captions\n",
    "    def data_cleaning(self, captions):\n",
    "        #create a dictionary of ascii values of all punctuation mapped to none values\n",
    "        img_edited_captions = {}\n",
    "        punctuation_none_map = str.maketrans('','',string.punctuation)\n",
    "        for img_name,all_captions in captions.items():\n",
    "            if img_name not in img_edited_captions.values():\n",
    "                img_edited_captions[img_name] = []\n",
    "            for caption in all_captions:\n",
    "                #remove punctuation\n",
    "                caption = caption.translate(punctuation_none_map)\n",
    "                all_words = caption.split()\n",
    "                #convert to lower case\n",
    "                all_words = [word.lower() for word in all_words]\n",
    "                #remove hanging 's and a'\n",
    "                all_words = [word for word in all_words if len(word) > 1]\n",
    "                #remove words containing numbers\n",
    "                all_words = [word for word in all_words if word.isalpha()]\n",
    "                caption_edited = ' '.join(all_words)\n",
    "                img_edited_captions[img_name].append(caption_edited)\n",
    "        return img_edited_captions\n",
    "    def get_vocabulary(self, captions):\n",
    "        vocab = set()\n",
    "        for img in captions.keys():\n",
    "            for caption in captions[img]:\n",
    "                vocab.update(caption.split())\n",
    "        return vocab\n",
    "            \n",
    "    def store_description(self, all_captions, file_name):\n",
    "        export_text = []\n",
    "        for img,captions in all_captions.items():\n",
    "            for caption in captions:\n",
    "                export_text.append(\"{}\\t{}\".format(img,caption))\n",
    "        file = open(file_name,\"w\")\n",
    "        file.write('\\n'.join(export_text))\n",
    "        file.close()"
   ]
  },
  {
   "cell_type": "code",
   "execution_count": 3,
   "id": "bde0e113",
   "metadata": {},
   "outputs": [],
   "source": [
    "File = FileHandling()\n",
    "#File.load_file('Flickr8k_Text/Flickr8k.token.txt')\n",
    "file_contents = File.load_file('Flickr8k_Text/Flickr8k.token.txt')\n",
    "img_captions = File.img_captions(file_contents)\n",
    "img_captions = File.data_cleaning(img_captions)\n",
    "vocabulary = File.get_vocabulary(img_captions)\n",
    "File.store_description(img_captions,'descriptions.txt')"
   ]
  },
  {
   "cell_type": "code",
   "execution_count": null,
   "id": "8bc68bd2",
   "metadata": {},
   "outputs": [],
   "source": []
  },
  {
   "cell_type": "code",
   "execution_count": null,
   "id": "1880f174",
   "metadata": {},
   "outputs": [],
   "source": []
  },
  {
   "cell_type": "code",
   "execution_count": null,
   "id": "f257fdb5",
   "metadata": {},
   "outputs": [],
   "source": []
  },
  {
   "cell_type": "code",
   "execution_count": null,
   "id": "f0ecfdff",
   "metadata": {},
   "outputs": [],
   "source": []
  }
 ],
 "metadata": {
  "kernelspec": {
   "display_name": "Python 3 (ipykernel)",
   "language": "python",
   "name": "python3"
  },
  "language_info": {
   "codemirror_mode": {
    "name": "ipython",
    "version": 3
   },
   "file_extension": ".py",
   "mimetype": "text/x-python",
   "name": "python",
   "nbconvert_exporter": "python",
   "pygments_lexer": "ipython3",
   "version": "3.11.4"
  }
 },
 "nbformat": 4,
 "nbformat_minor": 5
}
